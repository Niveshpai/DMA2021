{
 "cells": [
  {
   "cell_type": "markdown",
   "metadata": {},
   "source": [
    "## DMA Lab\n",
    "\n",
    "### Python Basics Demo Session"
   ]
  },
  {
   "cell_type": "markdown",
   "metadata": {},
   "source": [
    "## Basic data types"
   ]
  },
  {
   "cell_type": "code",
   "execution_count": null,
   "metadata": {},
   "outputs": [],
   "source": [
    "# Numbers: Integers and floats \n",
    "x = 3\n",
    "print(type(x))                         # Prints \"<class 'int'>\"\n",
    "print(x)                               # Prints \"3\"\n",
    "print(x + 1)                           # Addition; prints \"4\"\n",
    "print(x - 1)                           # Subtraction; prints \"2\"\n",
    "print(x * 2)                           # Multiplication; prints \"6\"\n",
    "print(x ** 2)                          # Exponentiation; prints \"9\"\n",
    "x += 1\n",
    "print(x)                               # Prints \"4\"\n",
    "x *= 2\n",
    "print(x)                               # Prints \"8\"\n",
    "y = 2.5\n",
    "print(type(y))                         # Prints \"<class 'float'>\"\n",
    "print(y, y + 1, y * 2, y ** 2)         # Prints \"2.5 3.5 5.0 6.25\"\n"
   ]
  },
  {
   "cell_type": "code",
   "execution_count": null,
   "metadata": {},
   "outputs": [],
   "source": [
    "# Booleans\n",
    "t = True\n",
    "f = False\n",
    "print(type(t))         # Prints \"<class 'bool'>\"\n",
    "print(t and f)         # Logical AND; prints \"False\"\n",
    "print(t or f)          # Logical OR; prints \"True\"\n",
    "print(not t)           # Logical NOT; prints \"False\"\n",
    "print(t != f)          # Logical XOR; prints \"True\"\n"
   ]
  },
  {
   "cell_type": "code",
   "execution_count": null,
   "metadata": {},
   "outputs": [],
   "source": [
    "# Strings\n",
    "hello = 'hello'                         # String literals can use single quotes\n",
    "world = \"world\"                         # or double quotes; it does not matter.\n",
    "print(hello)                            # Prints \"hello\"\n",
    "print(len(hello))                       # String length; prints \"5\"\n",
    "hw = hello + ' ' + world                # String concatenation\n",
    "print(hw)                               # prints \"hello world\"\n",
    "hw12 = '%s %s %d' % (hello, world, 12)  # sprintf style string formatting\n",
    "print(hw12)                             # prints \"hello world 12\"\n"
   ]
  },
  {
   "cell_type": "code",
   "execution_count": null,
   "metadata": {},
   "outputs": [],
   "source": [
    "# String methods: For more visit https://docs.python.org/3.5/library/stdtypes.html#string-methods\n",
    "s = \"hello\"\n",
    "print(s.capitalize())             # Capitalize a string; prints \"Hello\"\n",
    "print(s.upper())                  # Convert a string to uppercase; prints \"HELLO\"\n",
    "print(s.rjust(7))                 # Right-justify a string, padding with spaces; prints \"  hello\"\n",
    "print(s.center(7))                # Center a string, padding with spaces; prints \" hello \"\n",
    "print(s.replace('l', '(ell)'))    # Replace all instances of one substring with another;\n",
    "                                  # prints \"he(ell)(ell)o\"\n",
    "print('  world '.strip())         # Strip leading and trailing whitespace; prints \"world\"\n"
   ]
  },
  {
   "cell_type": "markdown",
   "metadata": {},
   "source": [
    "## Containers \n",
    "- Built-in container types: lists, dictionaries, sets, and tuples."
   ]
  },
  {
   "cell_type": "markdown",
   "metadata": {},
   "source": [
    "### Lists\n",
    "\n",
    "- A list is the Python equivalent of an array, but is resizeable and can contain elements of different types"
   ]
  },
  {
   "cell_type": "code",
   "execution_count": null,
   "metadata": {},
   "outputs": [],
   "source": [
    "xs = [3, 1, 2]    # Create a list\n",
    "print(xs, xs[2])  # Prints \"[3, 1, 2] 2\"\n",
    "print(xs[-1])     # Negative indices count from the end of the list; prints \"2\"\n",
    "xs[2] = 'foo'     # Lists can contain elements of different types\n",
    "print(xs)         # Prints \"[3, 1, 'foo']\"\n",
    "xs.append('bar')  # Add a new element to the end of the list\n",
    "print(xs)         # Prints \"[3, 1, 'foo', 'bar']\"\n",
    "x = xs.pop()      # Remove and return the last element of the list\n",
    "print(x, xs)      # Prints \"bar [3, 1, 'foo']\"\n"
   ]
  },
  {
   "cell_type": "code",
   "execution_count": null,
   "metadata": {},
   "outputs": [],
   "source": [
    "# Slicing\n",
    "nums = list(range(5))     # range is a built-in function that creates a list of integers\n",
    "print(nums)               # Prints \"[0, 1, 2, 3, 4]\"\n",
    "print(nums[2:4])          # Get a slice from index 2 to 4 (exclusive); prints \"[2, 3]\"\n",
    "print(nums[2:])           # Get a slice from index 2 to the end; prints \"[2, 3, 4]\"\n",
    "print(nums[:2])           # Get a slice from the start to index 2 (exclusive); prints \"[0, 1]\"\n",
    "print(nums[:])            # Get a slice of the whole list; prints \"[0, 1, 2, 3, 4]\"\n",
    "print(nums[:-1])          # Slice indices can be negative; prints \"[0, 1, 2, 3]\"\n",
    "nums[2:4] = [8, 9]        # Assign a new sublist to a slice\n",
    "print(nums)               # Prints \"[0, 1, 8, 9, 4]\"\n"
   ]
  },
  {
   "cell_type": "code",
   "execution_count": null,
   "metadata": {},
   "outputs": [],
   "source": [
    "# Concatenating lists together\n",
    "x = [1, 2, 3]\n",
    "x.extend([4, 5, 6])           # x is now [1,2,3,4,5,6]\n",
    "print(x)\n",
    "\n",
    "# If you don’t want to modify x you can use list addition\n",
    "x = [1, 2, 3]\n",
    "y = x + [4, 5, 6]             # y is [1, 2, 3, 4, 5, 6]; x is unchanged\n",
    "print(y)\n",
    "\n",
    "# Appending to lists one item at a time\n",
    "x = [1, 2, 3]\n",
    "x.append(0)                   # x is now [1, 2, 3, 0]\n",
    "y = x[-1]                     # equals 0\n",
    "z = len(x)                    # equals 4\n",
    "print(z)"
   ]
  },
  {
   "cell_type": "code",
   "execution_count": null,
   "metadata": {},
   "outputs": [],
   "source": [
    "# Loops\n",
    "animals = ['dog', 'cat', 'monkey', 'bear']\n",
    "\n",
    "# Print the elements of the list\n",
    "print(\"Elements before sorting:\")\n",
    "for animal in animals:\n",
    "    print(animal)\n",
    "# Prints \"dog\", cat\", \"monkey\", \"bear\", each on its own line.\n",
    "\n",
    "# Sort the list in ascending order\n",
    "animals.sort()\n",
    "\n",
    "print(\"Elements after sorting:\")\n",
    "for animal in animals:\n",
    "    print(animal)\n",
    "# Prints \"bear\", cat\", \"dog\", \"monkey\", each on its own line.\n"
   ]
  },
  {
   "cell_type": "code",
   "execution_count": null,
   "metadata": {},
   "outputs": [],
   "source": [
    "# List comprehensions: to transform one type of data into another.\n",
    "nums = [0, 1, 2, 3, 4]\n",
    "squares = []\n",
    "for x in nums:\n",
    "    squares.append(x ** 2)\n",
    "print(squares)                # Prints [0, 1, 4, 9, 16]\n"
   ]
  },
  {
   "cell_type": "code",
   "execution_count": null,
   "metadata": {},
   "outputs": [],
   "source": [
    "# Alternate\n",
    "nums = [0, 1, 2, 3, 4]\n",
    "squares = [x ** 2 for x in nums]\n",
    "print(squares)                # Prints [0, 1, 4, 9, 16]\n"
   ]
  },
  {
   "cell_type": "code",
   "execution_count": null,
   "metadata": {},
   "outputs": [],
   "source": [
    "# List comprehensions with condition\n",
    "nums = [0, 1, 2, 3, 4]\n",
    "even_squares = [x ** 2 for x in nums if x % 2 == 0]\n",
    "print(even_squares)           # Prints \"[0, 4, 16]\"\n"
   ]
  },
  {
   "cell_type": "markdown",
   "metadata": {},
   "source": [
    "### Dictionaries\n",
    "\n",
    "- A dictionary stores (key, value) pairs, similar to a Map in Java "
   ]
  },
  {
   "cell_type": "code",
   "execution_count": null,
   "metadata": {},
   "outputs": [],
   "source": [
    "d = {'cat': 'cute', 'dog': 'furry'}  # Create a new dictionary with some data\n",
    "print(d['cat'])                      # Get an entry from a dictionary; prints \"cute\"\n",
    "print('cat' in d)                    # Check if a dictionary has a given key; prints \"True\"\n",
    "d['fish'] = 'wet'                    # Set an entry in a dictionary\n",
    "print(d['fish'])                     # Prints \"wet\"\n",
    "# print(d['monkey'])                 # KeyError: 'monkey' not a key of d\n",
    "print(d.get('monkey', 'N/A'))        # Get an element with a default; prints \"N/A\"\n",
    "print(d.get('fish', 'N/A'))          # Get an element with a default; prints \"wet\"\n",
    "del d['fish']                        # Remove an element from a dictionary\n",
    "print(d.get('fish', 'N/A'))          # \"fish\" is no longer a key; prints \"N/A\"\n"
   ]
  },
  {
   "cell_type": "code",
   "execution_count": null,
   "metadata": {},
   "outputs": [],
   "source": [
    "# Loops\n",
    "d = {'person': 2, 'cat': 4, 'spider': 8}\n",
    "for animal in d:\n",
    "    legs = d[animal]\n",
    "    print('A %s has %d legs' % (animal, legs))\n",
    "# Prints \"A person has 2 legs\", \"A cat has 4 legs\", \"A spider has 8 legs\"\n"
   ]
  },
  {
   "cell_type": "code",
   "execution_count": null,
   "metadata": {},
   "outputs": [],
   "source": [
    "# Alternate using items()\n",
    "d = {'person': 2, 'cat': 4, 'spider': 8}\n",
    "for animal, legs in d.items():\n",
    "    print('A %s has %d legs' % (animal, legs))\n",
    "# Prints \"A person has 2 legs\", \"A cat has 4 legs\", \"A spider has 8 legs\"\n"
   ]
  },
  {
   "cell_type": "code",
   "execution_count": null,
   "metadata": {},
   "outputs": [],
   "source": [
    "# Dictionary comprehensions\n",
    "nums = [0, 1, 2, 3, 4]\n",
    "even_num_to_square = {x: x ** 2 for x in nums if x % 2 == 0}\n",
    "print(even_num_to_square)  # Prints \"{0: 0, 2: 4, 4: 16}\"\n"
   ]
  },
  {
   "cell_type": "markdown",
   "metadata": {},
   "source": [
    "### Sets\n",
    "\n",
    "- A set is an unordered collection of distinct elements."
   ]
  },
  {
   "cell_type": "code",
   "execution_count": null,
   "metadata": {},
   "outputs": [],
   "source": [
    "animals = {'cat', 'dog'}\n",
    "print('cat' in animals)            # Check if an element is in a set; prints \"True\"\n",
    "print('fish' in animals)           # prints \"False\"\n",
    "animals.add('fish')                # Add an element to a set\n",
    "print('fish' in animals)           # Prints \"True\"\n",
    "print(len(animals))                # Number of elements in a set; prints \"3\"\n",
    "animals.add('cat')                 # Adding an element that is already in the set does nothing\n",
    "print(len(animals))                # Prints \"3\"\n",
    "animals.remove('cat')              # Remove an element from a set\n",
    "print(len(animals))                # Prints \"2\"\n"
   ]
  },
  {
   "cell_type": "code",
   "execution_count": null,
   "metadata": {},
   "outputs": [],
   "source": [
    "# Loops\n",
    "animals = {'cat', 'dog', 'fish'}\n",
    "for idx, animal in enumerate(animals):\n",
    "    print('#%d: %s' % (idx + 1, animal))\n",
    "# Prints \"#1: fish\", \"#2: dog\", \"#3: cat\"\n"
   ]
  },
  {
   "cell_type": "code",
   "execution_count": null,
   "metadata": {},
   "outputs": [],
   "source": [
    "# Set comprehensions\n",
    "from math import sqrt\n",
    "nums = {int(sqrt(x)) for x in range(30)}\n",
    "print(nums)  # Prints \"{0, 1, 2, 3, 4, 5}\"\n"
   ]
  },
  {
   "cell_type": "markdown",
   "metadata": {},
   "source": [
    "### Tuples\n",
    "\n",
    "- A tuple is an (immutable) ordered list of values. \n",
    "- A tuple is in many ways similar to a list; one of the most important differences is that tuples can be used as keys in dictionaries and as elements of sets, while lists cannot."
   ]
  },
  {
   "cell_type": "code",
   "execution_count": null,
   "metadata": {},
   "outputs": [],
   "source": [
    "d = {(x, x + 1): x for x in range(10)}  # Create a dictionary with tuple keys\n",
    "t = (5, 6)                              # Create a tuple\n",
    "print(type(t))                          # Prints \"<class 'tuple'>\"\n",
    "print(d[t])                             # Prints \"5\"\n",
    "print(d[(1, 2)])                        # Prints \"1\"\n",
    "print (d)"
   ]
  },
  {
   "cell_type": "markdown",
   "metadata": {},
   "source": [
    "## Functions\n",
    "\n",
    "- Python functions are defined using the def keyword."
   ]
  },
  {
   "cell_type": "code",
   "execution_count": null,
   "metadata": {},
   "outputs": [],
   "source": [
    "def sign(x):\n",
    "    if x > 0:\n",
    "        return 'positive'\n",
    "    elif x < 0:\n",
    "        return 'negative'\n",
    "    else:\n",
    "        return 'zero'\n",
    "\n",
    "for x in [-1, 0, 1]:\n",
    "    print(sign(x))\n",
    "# Prints \"negative\", \"zero\", \"positive\"\n"
   ]
  },
  {
   "cell_type": "code",
   "execution_count": null,
   "metadata": {},
   "outputs": [],
   "source": [
    "# define functions with optional keyword arguments\n",
    "def hello(name, loud=False):\n",
    "    if loud:\n",
    "        print('HELLO, %s!' % name.upper())\n",
    "    else:\n",
    "        print('Hello, %s' % name)\n",
    "\n",
    "hello('Amar')                              # Prints \"Hello, Bob\"\n",
    "hello('Akbar', loud=True)                  # Prints \"HELLO, FRED!\"\n"
   ]
  },
  {
   "cell_type": "markdown",
   "metadata": {},
   "source": [
    "## Reference on Python Basics for more details\n",
    "    - https://docs.python.org/3.5/tutorial/index.html"
   ]
  },
  {
   "cell_type": "code",
   "execution_count": null,
   "metadata": {},
   "outputs": [],
   "source": []
  }
 ],
 "metadata": {
  "kernelspec": {
   "display_name": "Python 3",
   "language": "python",
   "name": "python3"
  },
  "language_info": {
   "codemirror_mode": {
    "name": "ipython",
    "version": 3
   },
   "file_extension": ".py",
   "mimetype": "text/x-python",
   "name": "python",
   "nbconvert_exporter": "python",
   "pygments_lexer": "ipython3",
   "version": "3.7.3"
  }
 },
 "nbformat": 4,
 "nbformat_minor": 2
}
